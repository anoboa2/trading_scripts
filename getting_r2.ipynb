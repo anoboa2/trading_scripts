{
 "cells": [
  {
   "cell_type": "code",
   "execution_count": 1,
   "metadata": {},
   "outputs": [],
   "source": [
    "import pandas as pd\n",
    "import numpy as np\n",
    "import yfinance as yf\n",
    "import matplotlib.pyplot as plt\n",
    "\n",
    "from sklearn.metrics import r2_score"
   ]
  },
  {
   "cell_type": "code",
   "execution_count": 2,
   "metadata": {},
   "outputs": [],
   "source": [
    "# define a function to calculate r2 of an index and security (must use period and interval parameters that are accepted by yfinance)\n",
    "def compareR2(index, security, period, interval):\n",
    "\n",
    "    # pull ticker data\n",
    "    x = yf.Ticker(index).history(period=period, interval=interval)\n",
    "    y = yf.Ticker(security).history(period=period, interval=interval)\n",
    "\n",
    "    # normalize close prices\n",
    "    x['nrml_close'] = np.array([(z - np.min(x['Close'])) / (np.min(x['Close'])) for z in x['Close']])\n",
    "    y['nrml_close'] = np.array([(z - np.min(y['Close'])) / (np.min(y['Close'])) for z in y['Close']])\n",
    "\n",
    "    r2 = r2_score(x['nrml_close'], y['nrml_close'])\n",
    "\n",
    "    return r2"
   ]
  },
  {
   "cell_type": "code",
   "execution_count": 3,
   "metadata": {},
   "outputs": [
    {
     "name": "stdout",
     "output_type": "stream",
     "text": [
      "The R-Squared for SPY and AMZN is: -5.133341717145533\n"
     ]
    }
   ],
   "source": [
    "# define our input parameters and call our function\n",
    "index_ticker = 'SPY'\n",
    "security_ticker = 'AMZN'\n",
    "\n",
    "print(f'The R-Squared for {index_ticker} and {security_ticker} is: {compareR2(index_ticker, security_ticker, \"30d\", \"1d\")}')"
   ]
  }
 ],
 "metadata": {
  "interpreter": {
   "hash": "1951902444d2da1ce7aab280a5ce2c3d573ae8e6f8892c5b71fe0956013fb370"
  },
  "kernelspec": {
   "display_name": "Python 3.9.7 64-bit ('trading_scripts-2QlzeJCK': pipenv)",
   "language": "python",
   "name": "python3"
  },
  "language_info": {
   "codemirror_mode": {
    "name": "ipython",
    "version": 3
   },
   "file_extension": ".py",
   "mimetype": "text/x-python",
   "name": "python",
   "nbconvert_exporter": "python",
   "pygments_lexer": "ipython3",
   "version": "3.9.7"
  },
  "orig_nbformat": 4
 },
 "nbformat": 4,
 "nbformat_minor": 2
}
